{
 "cells": [
  {
   "cell_type": "code",
   "execution_count": 1,
   "id": "ebf83d6e",
   "metadata": {},
   "outputs": [],
   "source": [
    "import pickle\n",
    "import pandas as pd"
   ]
  },
  {
   "cell_type": "code",
   "execution_count": 34,
   "id": "c766a438",
   "metadata": {},
   "outputs": [
    {
     "data": {
      "text/plain": [
       "{'loc1': {'city': 'blr', 'vals': [10, 20, 30]},\n",
       " 'loc2': {'city': 'chn', 'vals': [40, 50, 60]}}"
      ]
     },
     "execution_count": 34,
     "metadata": {},
     "output_type": "execute_result"
    }
   ],
   "source": [
    "config = {\n",
    "          \"loc1\" : {\"city\" : \"blr\", \"vals\" : [10,20,30]},\n",
    "          \"loc2\" : {\"city\" : \"chn\", \"vals\": [40,50,60]}\n",
    "}\n",
    "config"
   ]
  },
  {
   "cell_type": "code",
   "execution_count": 23,
   "id": "feeaa87a",
   "metadata": {},
   "outputs": [
    {
     "data": {
      "text/plain": [
       "<_io.TextIOWrapper name='config.pkl' mode='w' encoding='cp1252'>"
      ]
     },
     "execution_count": 23,
     "metadata": {},
     "output_type": "execute_result"
    }
   ],
   "source": [
    "f1 = open(\"config.pkl\", \"w\")\n",
    "f1"
   ]
  },
  {
   "cell_type": "code",
   "execution_count": 24,
   "id": "05499d17",
   "metadata": {},
   "outputs": [],
   "source": [
    "import pickle\n",
    "\n",
    "a={\n",
    "   \"alpha\" : [10,20],\n",
    "   \"beta\"  : [30,40]\n",
    "  }\n",
    "\n",
    "f1 = open(\"data.pkl\", \"wb\")\n",
    "\n",
    "pickle.dump(a,f1)  # save the python dict - pickle file\n",
    "\n",
    "f1.close()\n"
   ]
  },
  {
   "cell_type": "code",
   "execution_count": 33,
   "id": "9890f5ea",
   "metadata": {},
   "outputs": [
    {
     "name": "stdout",
     "output_type": "stream",
     "text": [
      "€\u0004•$\u0000\u0000\u0000\u0000\u0000\u0000\u0000}”(Œ\u0005alpha”]”(K\n",
      "\n",
      "K\u0014eŒ\u0004beta”]”(K\u001e",
      "K(eu.\n"
     ]
    }
   ],
   "source": []
  },
  {
   "cell_type": "code",
   "execution_count": 37,
   "id": "8dc0d14c",
   "metadata": {},
   "outputs": [
    {
     "data": {
      "text/plain": [
       "{'player': ['vk', 'Rohit', 'Rahane'], 'Role': [18, 45, 10]}"
      ]
     },
     "execution_count": 37,
     "metadata": {},
     "output_type": "execute_result"
    }
   ],
   "source": [
    "b={\n",
    "    'player':['vk','Rohit','Rahane'],\n",
    "    'Role':[18,45,10]\n",
    "}\n",
    "b"
   ]
  },
  {
   "cell_type": "code",
   "execution_count": 38,
   "id": "94aa7a05",
   "metadata": {},
   "outputs": [],
   "source": [
    "file=open(\"cricket.pkl\",\"wb\")\n",
    "pickle.dump(a,file)\n",
    "file.close()"
   ]
  },
  {
   "cell_type": "code",
   "execution_count": 46,
   "id": "73319d77",
   "metadata": {},
   "outputs": [],
   "source": [
    "file=open('cricket.pkl',\"rb\")\n",
    "file.readlines()\n",
    "for elem in file:\n",
    "    print(elem)\n",
    "    \n",
    "file.close()"
   ]
  },
  {
   "cell_type": "code",
   "execution_count": 50,
   "id": "7bdcb244",
   "metadata": {},
   "outputs": [],
   "source": [
    "import json \n",
    "   \n",
    "# Define student_details dictionary\n",
    "student_details ={ \n",
    "    \"name\" : \"sathiyajith\", \n",
    "    \"rollno\" : 56, \n",
    "    \"cgpa\" : 8.6, \n",
    "    \"phonenumber\" : \"9976770500\"\n",
    "} \n",
    "   \n",
    "# Convert and write JSON object to file\n",
    "ashok= open(\"stud.json\",\"w\")\n",
    "json.dump(student_details, ashok)\n"
   ]
  },
  {
   "cell_type": "code",
   "execution_count": 51,
   "id": "c0e7639c",
   "metadata": {},
   "outputs": [
    {
     "name": "stdout",
     "output_type": "stream",
     "text": [
      "{\"name\": \"sathiyajith\", \"rollno\": 56, \"cgpa\": 8.6, \"phonenumber\": \"9976770500\"}\n"
     ]
    }
   ],
   "source": [
    "ak=open(\"stud.json\",\"r\")\n",
    "for elem in ak:\n",
    "    print(elem)\n",
    "    \n",
    "ak.close()"
   ]
  },
  {
   "cell_type": "code",
   "execution_count": null,
   "id": "b3cbc428",
   "metadata": {},
   "outputs": [],
   "source": []
  }
 ],
 "metadata": {
  "kernelspec": {
   "display_name": "Python 3 (ipykernel)",
   "language": "python",
   "name": "python3"
  },
  "language_info": {
   "codemirror_mode": {
    "name": "ipython",
    "version": 3
   },
   "file_extension": ".py",
   "mimetype": "text/x-python",
   "name": "python",
   "nbconvert_exporter": "python",
   "pygments_lexer": "ipython3",
   "version": "3.9.13"
  }
 },
 "nbformat": 4,
 "nbformat_minor": 5
}
